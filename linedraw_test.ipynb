{
 "cells": [
  {
   "cell_type": "code",
   "execution_count": 1,
   "metadata": {},
   "outputs": [
    {
     "name": "stdout",
     "output_type": "stream",
     "text": [
      "Jupyter environment detected. Enabling Open3D WebVisualizer.\n",
      "[Open3D INFO] WebRTC GUI backend enabled.\n",
      "[Open3D INFO] WebRTCWindowSystem: HTTP handshake server disabled.\n",
      "[Open3D INFO] Resetting default logger to print to terminal.\n"
     ]
    }
   ],
   "source": [
    "import open3d as o3d\n",
    "from open3d.web_visualizer import draw\n",
    "from open3d.visualization import draw_geometries\n"
   ]
  },
  {
   "cell_type": "code",
   "execution_count": 2,
   "metadata": {},
   "outputs": [],
   "source": [
    "#draw a point cloud with default parameter\n",
    "dataset = o3d.data.PLYPointCloud()\n",
    "office = o3d.io.read_point_cloud(dataset.path)\n",
    "draw_geometries([office])\n"
   ]
  },
  {
   "cell_type": "code",
   "execution_count": 3,
   "metadata": {},
   "outputs": [],
   "source": [
    "\n",
    "#we can downsample these points to speed up visualization by adjusting \n",
    "# point_sample_factor to a smaller number\n",
    "dataset = o3d.data.PLYPointCloud()\n",
    "office = o3d.io.read_point_cloud(dataset.path)\n",
    "draw_geometries([office])\n"
   ]
  },
  {
   "cell_type": "code",
   "execution_count": 4,
   "metadata": {},
   "outputs": [
    {
     "ename": "AttributeError",
     "evalue": "module 'open3d.visualization' has no attribute 'draw_plotly'",
     "output_type": "error",
     "traceback": [
      "\u001b[1;31m---------------------------------------------------------------------------\u001b[0m",
      "\u001b[1;31mAttributeError\u001b[0m                            Traceback (most recent call last)",
      "Cell \u001b[1;32mIn [4], line 4\u001b[0m\n\u001b[0;32m      2\u001b[0m dataset \u001b[39m=\u001b[39m o3d\u001b[39m.\u001b[39mdata\u001b[39m.\u001b[39mPLYPointCloud()\n\u001b[0;32m      3\u001b[0m office \u001b[39m=\u001b[39m o3d\u001b[39m.\u001b[39mio\u001b[39m.\u001b[39mread_point_cloud(dataset\u001b[39m.\u001b[39mpath)\n\u001b[1;32m----> 4\u001b[0m o3d\u001b[39m.\u001b[39;49mvisualization\u001b[39m.\u001b[39;49mdraw_plotly([office],\n\u001b[0;32m      5\u001b[0m                               point_sample_factor\u001b[39m=\u001b[39m\u001b[39m0.1\u001b[39m,\n\u001b[0;32m      6\u001b[0m                               zoom\u001b[39m=\u001b[39m\u001b[39m0.3\u001b[39m,\n\u001b[0;32m      7\u001b[0m                               front\u001b[39m=\u001b[39m[\u001b[39m0.4257\u001b[39m, \u001b[39m-\u001b[39m\u001b[39m0.2125\u001b[39m, \u001b[39m-\u001b[39m\u001b[39m0.8795\u001b[39m],\n\u001b[0;32m      8\u001b[0m                               lookat\u001b[39m=\u001b[39m[\u001b[39m2.672\u001b[39m, \u001b[39m2.0475\u001b[39m, \u001b[39m1.532\u001b[39m],\n\u001b[0;32m      9\u001b[0m                               up\u001b[39m=\u001b[39m[\u001b[39m-\u001b[39m\u001b[39m0.0694\u001b[39m, \u001b[39m-\u001b[39m\u001b[39m0.9768\u001b[39m, \u001b[39m-\u001b[39m\u001b[39m0.2024\u001b[39m])\n",
      "\u001b[1;31mAttributeError\u001b[0m: module 'open3d.visualization' has no attribute 'draw_plotly'"
     ]
    }
   ],
   "source": [
    "\n",
    "#adjust the camera to get a better view\n",
    "dataset = o3d.data.PLYPointCloud()\n",
    "office = o3d.io.read_point_cloud(dataset.path)\n",
    "o3d.visualization.draw_plotly([office],\n",
    "                              point_sample_factor=0.1,\n",
    "                              zoom=0.3,\n",
    "                              front=[0.4257, -0.2125, -0.8795],\n",
    "                              lookat=[2.672, 2.0475, 1.532],\n",
    "                              up=[-0.0694, -0.9768, -0.2024])\n"
   ]
  },
  {
   "cell_type": "code",
   "execution_count": null,
   "metadata": {},
   "outputs": [],
   "source": [
    "\n",
    "#draw a triangle mesh\n",
    "dataset = o3d.data.BunnyMesh()\n",
    "mesh = o3d.io.read_triangle_mesh(dataset.path)\n",
    "o3d.visualization.draw_plotly([mesh],\n",
    "                              up=[0, 1, 0],\n",
    "                              front=[0, 0, 1],\n",
    "                              lookat=[0.0, 0.1, 0.0],\n",
    "                              zoom=0.5)\n"
   ]
  },
  {
   "cell_type": "code",
   "execution_count": null,
   "metadata": {},
   "outputs": [
    {
     "ename": "AttributeError",
     "evalue": "module 'open3d.visualization' has no attribute 'draw_plotly'",
     "output_type": "error",
     "traceback": [
      "\u001b[1;31m---------------------------------------------------------------------------\u001b[0m",
      "\u001b[1;31mAttributeError\u001b[0m                            Traceback (most recent call last)",
      "\u001b[1;32mc:\\Users\\Basit\\Desktop\\PyNuitrack\\Nuitrack\\linedraw_test.ipynb Zelle 6\u001b[0m in \u001b[0;36m<cell line: 4>\u001b[1;34m()\u001b[0m\n\u001b[0;32m      <a href='vscode-notebook-cell:/c%3A/Users/Basit/Desktop/PyNuitrack/Nuitrack/linedraw_test.ipynb#W5sZmlsZQ%3D%3D?line=1'>2</a>\u001b[0m dataset \u001b[39m=\u001b[39m o3d\u001b[39m.\u001b[39mdata\u001b[39m.\u001b[39mBunnyMesh()\n\u001b[0;32m      <a href='vscode-notebook-cell:/c%3A/Users/Basit/Desktop/PyNuitrack/Nuitrack/linedraw_test.ipynb#W5sZmlsZQ%3D%3D?line=2'>3</a>\u001b[0m mesh \u001b[39m=\u001b[39m o3d\u001b[39m.\u001b[39mio\u001b[39m.\u001b[39mread_triangle_mesh(dataset\u001b[39m.\u001b[39mpath)\n\u001b[1;32m----> <a href='vscode-notebook-cell:/c%3A/Users/Basit/Desktop/PyNuitrack/Nuitrack/linedraw_test.ipynb#W5sZmlsZQ%3D%3D?line=3'>4</a>\u001b[0m o3d\u001b[39m.\u001b[39;49mvisualization\u001b[39m.\u001b[39;49mdraw_plotly([mesh],\n\u001b[0;32m      <a href='vscode-notebook-cell:/c%3A/Users/Basit/Desktop/PyNuitrack/Nuitrack/linedraw_test.ipynb#W5sZmlsZQ%3D%3D?line=4'>5</a>\u001b[0m                               mesh_show_wireframe\u001b[39m=\u001b[39m\u001b[39mTrue\u001b[39;00m,\n\u001b[0;32m      <a href='vscode-notebook-cell:/c%3A/Users/Basit/Desktop/PyNuitrack/Nuitrack/linedraw_test.ipynb#W5sZmlsZQ%3D%3D?line=5'>6</a>\u001b[0m                               up\u001b[39m=\u001b[39m[\u001b[39m0\u001b[39m, \u001b[39m1\u001b[39m, \u001b[39m0\u001b[39m],\n\u001b[0;32m      <a href='vscode-notebook-cell:/c%3A/Users/Basit/Desktop/PyNuitrack/Nuitrack/linedraw_test.ipynb#W5sZmlsZQ%3D%3D?line=6'>7</a>\u001b[0m                               front\u001b[39m=\u001b[39m[\u001b[39m0\u001b[39m, \u001b[39m0\u001b[39m, \u001b[39m1\u001b[39m],\n\u001b[0;32m      <a href='vscode-notebook-cell:/c%3A/Users/Basit/Desktop/PyNuitrack/Nuitrack/linedraw_test.ipynb#W5sZmlsZQ%3D%3D?line=7'>8</a>\u001b[0m                               lookat\u001b[39m=\u001b[39m[\u001b[39m0.0\u001b[39m, \u001b[39m0.1\u001b[39m, \u001b[39m0.0\u001b[39m],\n\u001b[0;32m      <a href='vscode-notebook-cell:/c%3A/Users/Basit/Desktop/PyNuitrack/Nuitrack/linedraw_test.ipynb#W5sZmlsZQ%3D%3D?line=8'>9</a>\u001b[0m                               zoom\u001b[39m=\u001b[39m\u001b[39m0.5\u001b[39m)\n",
      "\u001b[1;31mAttributeError\u001b[0m: module 'open3d.visualization' has no attribute 'draw_plotly'"
     ]
    }
   ],
   "source": [
    "\n",
    "#draw a triangle mesh with wireframes.\n",
    "dataset = o3d.data.BunnyMesh()\n",
    "mesh = o3d.io.read_triangle_mesh(dataset.path)\n",
    "o3d.visualization.draw_plotly([mesh],\n",
    "                              mesh_show_wireframe=True,\n",
    "                              up=[0, 1, 0],\n",
    "                              front=[0, 0, 1],\n",
    "                              lookat=[0.0, 0.1, 0.0],\n",
    "                              zoom=0.5)\n"
   ]
  },
  {
   "cell_type": "code",
   "execution_count": null,
   "metadata": {},
   "outputs": [
    {
     "data": {
      "application/vnd.jupyter.widget-view+json": {
       "model_id": "9207cb80c49d424bb7e713a02d79ab4c",
       "version_major": 2,
       "version_minor": 0
      },
      "text/plain": [
       "WebVisualizer(window_uid='window_1')"
      ]
     },
     "metadata": {},
     "output_type": "display_data"
    }
   ],
   "source": [
    "\n",
    "#draw a point set\n",
    "points = [\n",
    "    [0, 0, 0],\n",
    "    [1, 0, 0],\n",
    "    [0, 1, 0],\n",
    "    [1, 1, 0],\n",
    "    [0, 0, 1],\n",
    "    [1, 0, 1],\n",
    "    [0, 1, 1],\n",
    "    [1, 1, 1],\n",
    "]\n",
    "lines = [\n",
    "    [0, 1],\n",
    "    [0, 2],\n",
    "    [1, 3],\n",
    "    [2, 3],\n",
    "    [4, 5],\n",
    "    [4, 6],\n",
    "    [5, 7],\n",
    "    [6, 7],\n",
    "    [0, 4],\n",
    "    [1, 5],\n",
    "    [2, 6],\n",
    "    [3, 7],\n",
    "]\n",
    "colors = [[1, 0, 0] for i in range(len(lines))]\n",
    "line_set = o3d.geometry.LineSet(\n",
    "    points=o3d.utility.Vector3dVector(points),\n",
    "    lines=o3d.utility.Vector2iVector(lines),\n",
    ")\n",
    "line_set.colors = o3d.utility.Vector3dVector(colors)\n",
    "draw([line_set,mesh])"
   ]
  }
 ],
 "metadata": {
  "kernelspec": {
   "display_name": "Python 3.9.13 ('seg')",
   "language": "python",
   "name": "python3"
  },
  "language_info": {
   "codemirror_mode": {
    "name": "ipython",
    "version": 3
   },
   "file_extension": ".py",
   "mimetype": "text/x-python",
   "name": "python",
   "nbconvert_exporter": "python",
   "pygments_lexer": "ipython3",
   "version": "3.9.13"
  },
  "orig_nbformat": 4,
  "vscode": {
   "interpreter": {
    "hash": "34c90725aa70974867635781ecba1d8967c9a69d18f344aa7e0f6db4565d0f70"
   }
  }
 },
 "nbformat": 4,
 "nbformat_minor": 2
}
