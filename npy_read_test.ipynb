{
 "cells": [
  {
   "cell_type": "code",
   "execution_count": 1,
   "metadata": {},
   "outputs": [],
   "source": [
    "\n",
    "import numpy as np\n",
    "import os\n",
    "import matplotlib.pyplot as plt\n",
    "import pandas as pd\n",
    "import open3d as o3d\n",
    "from open3d.visualization import draw_geometries"
   ]
  },
  {
   "cell_type": "code",
   "execution_count": 2,
   "metadata": {},
   "outputs": [],
   "source": [
    "def visualize_data(point_cloud):\n",
    "    df = pd.DataFrame(\n",
    "        data={\n",
    "            \"x\": point_cloud[:, 0],\n",
    "            \"y\": point_cloud[:, 1],\n",
    "            \"z\": point_cloud[:, 2],\n",
    "        }\n",
    "    )\n",
    "    fig = plt.figure(figsize=(15, 10))\n",
    "    ax = plt.axes(projection=\"3d\")\n",
    "\n",
    "    ax.scatter(\n",
    "        df[\"x\"], df[\"y\"], df[\"z\"]\n",
    "    )\n",
    "\n",
    "    plt.show()\n",
    "\n",
    "def visualize_pcd(points):\n",
    "    \n",
    "    colors = np.random.rand(1000, 3)\n",
    "\n",
    "    pcd = o3d.geometry.PointCloud()\n",
    "    pcd.points = o3d.utility.Vector3dVector(points)\n",
    "    pcd.colors = o3d.utility.Vector3dVector(colors)\n",
    "    draw_geometries([pcd])\n",
    "    # visualizer = JVisualizer()\n",
    "    # visualizer.add_geometry(pcd)\n",
    "    # visualizer.show()"
   ]
  },
  {
   "cell_type": "code",
   "execution_count": 3,
   "metadata": {},
   "outputs": [],
   "source": [
    "\n",
    "npy_dir = \"./pcd/\"\n",
    "joints_dir = \"./joints/\"\n",
    "\n",
    "\n",
    "npy_list=[]\n",
    "joints_list=[]\n",
    "\n",
    "for file in os.listdir(npy_dir):\n",
    "    filename = os.path.join(npy_dir,file)\n",
    "    npy_list.append(np.load(filename,\"r\"))\n",
    "\n",
    "npy_list=np.asanyarray(npy_list)    \n",
    "\n",
    "for file in os.listdir(joints_dir):\n",
    "    filename = os.path.join(joints_dir,file)\n",
    "    joints_list.append(np.loadtxt(filename))\n",
    "\n",
    "joints_list=np.asanyarray(joints_list)\n"
   ]
  },
  {
   "cell_type": "code",
   "execution_count": null,
   "metadata": {},
   "outputs": [],
   "source": [
    "lineset=[]\n",
    "visualize_pcd(npy_list[1,:,:])\n",
    "\n",
    "# xyz=np.load(\"C:/Users/Basit/Desktop/PyNuitrack/Nuitrack/pcd/1665754747371520_1665754732619735700.npy\",\"r\")\n",
    "# print(xyz)"
   ]
  }
 ],
 "metadata": {
  "kernelspec": {
   "display_name": "Python 3.9.13 ('seg')",
   "language": "python",
   "name": "python3"
  },
  "language_info": {
   "codemirror_mode": {
    "name": "ipython",
    "version": 3
   },
   "file_extension": ".py",
   "mimetype": "text/x-python",
   "name": "python",
   "nbconvert_exporter": "python",
   "pygments_lexer": "ipython3",
   "version": "3.9.13"
  },
  "orig_nbformat": 4,
  "vscode": {
   "interpreter": {
    "hash": "34c90725aa70974867635781ecba1d8967c9a69d18f344aa7e0f6db4565d0f70"
   }
  }
 },
 "nbformat": 4,
 "nbformat_minor": 2
}
